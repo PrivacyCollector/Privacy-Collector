{
 "cells": [
  {
   "cell_type": "code",
   "execution_count": 2,
   "metadata": {},
   "outputs": [
    {
     "name": "stdout",
     "output_type": "stream",
     "text": [
      "&gt;SVM 0.998 (0.006)\n",
      "&gt;NB 0.842 (0.129)\n",
      "&gt;RF 0.992 (0.013)\n"
     ]
    }
   ],
   "source": [
    "# spot check machine learning algorithms on the glass identification dataset\n",
    "from numpy import mean\n",
    "from numpy import std\n",
    "from pandas import read_csv\n",
    "from matplotlib import pyplot\n",
    "from sklearn.preprocessing import LabelEncoder\n",
    "from sklearn.model_selection import cross_val_score\n",
    "from sklearn.model_selection import RepeatedStratifiedKFold\n",
    "from sklearn.svm import SVC\n",
    "from sklearn.model_selection import KFold\n",
    "from sklearn.ensemble import RandomForestClassifier\n",
    "from sklearn.naive_bayes import GaussianNB\n",
    "from imblearn.over_sampling import SMOTE\n",
    "\n",
    "# load the dataset\n",
    "def load_dataset(full_path):\n",
    "\t# load the dataset as a numpy array\n",
    "\tdata = read_csv(full_path)\n",
    "\t# retrieve numpy array\n",
    "\tdata = data.values\n",
    "\t# split into input and output elements\n",
    "\tX, y = data[:, :-1], data[:, -1]\n",
    "\toversample = SMOTE()\n",
    "\tX_sm, y_sm = oversample.fit_resample(X, y)\n",
    "\t#Dimensionamento dos recursos\n",
    "\t# label encode the target variable to have the classes 0 and 1\n",
    "\ty = LabelEncoder().fit_transform(y_sm)\n",
    "\treturn X_sm, y\n",
    "\n",
    "# evaluate a model\n",
    "def evaluate_model(X, y, model):\n",
    "\t# define evaluation procedure\n",
    "\tcv = KFold(n_splits=10, shuffle=False)\n",
    "\t# evaluate model\n",
    "\tscores = cross_val_score(model, X, y, cv=cv)\n",
    "\treturn scores\n",
    "\n",
    "# define models to test\n",
    "def get_models():\n",
    "\tmodels, names = list(), list()\n",
    "\t# SVM\n",
    "\tmodels.append(SVC(kernel = 'linear', C=1))\n",
    "\tnames.append('SVM')\n",
    "\t# KNN\n",
    "\tmodels.append(GaussianNB())\n",
    "\tnames.append('NB')\n",
    "\t# RF\n",
    "\tmodels.append(RandomForestClassifier(n_estimators=10, random_state=42))\n",
    "\tnames.append('RF')\n",
    "\treturn models, names\n",
    "\n",
    "# define the location of the dataset\n",
    "full_path = 'Privacidade.csv'\n",
    "# load the dataset\n",
    "X, y = load_dataset(full_path)\n",
    "# define models\n",
    "models, names = get_models()\n",
    "results = list()\n",
    "# evaluate each model\n",
    "for i in range(len(models)):\n",
    "\t# evaluate the model and store results\n",
    "\tscores = evaluate_model(X, y, models[i])\n",
    "\tresults.append(scores)\n",
    "\t# summarize performance\n",
    "\tprint('&gt;%s %.3f (%.3f)' % (names[i], mean(scores), std(scores)))"
   ]
  },
  {
   "cell_type": "code",
   "execution_count": null,
   "metadata": {},
   "outputs": [],
   "source": []
  }
 ],
 "metadata": {
  "kernelspec": {
   "display_name": "Python 3",
   "language": "python",
   "name": "python3"
  },
  "language_info": {
   "codemirror_mode": {
    "name": "ipython",
    "version": 3
   },
   "file_extension": ".py",
   "mimetype": "text/x-python",
   "name": "python",
   "nbconvert_exporter": "python",
   "pygments_lexer": "ipython3",
   "version": "3.7.7"
  }
 },
 "nbformat": 4,
 "nbformat_minor": 4
}
